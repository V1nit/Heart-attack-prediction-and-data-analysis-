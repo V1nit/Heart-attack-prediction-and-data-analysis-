{
 "cells": [
  {
   "cell_type": "code",
   "execution_count": 156,
   "metadata": {
    "execution": {
     "iopub.execute_input": "2021-09-28T03:29:22.690025Z",
     "iopub.status.busy": "2021-09-28T03:29:22.689596Z",
     "iopub.status.idle": "2021-09-28T03:29:22.696590Z",
     "shell.execute_reply": "2021-09-28T03:29:22.695472Z",
     "shell.execute_reply.started": "2021-09-28T03:29:22.689965Z"
    },
    "papermill": {
     "duration": 1.093077,
     "end_time": "2021-09-28T04:02:06.524177",
     "exception": false,
     "start_time": "2021-09-28T04:02:05.431100",
     "status": "completed"
    },
    "tags": []
   },
   "outputs": [],
   "source": [
    "import numpy as np\n",
    "import pandas as pd\n",
    "import matplotlib.pyplot as plt\n",
    "import seaborn as sns\n",
    "from sklearn.preprocessing import RobustScaler,StandardScaler\n",
    "from sklearn.metrics import confusion_matrix,classification_report\n",
    "from sklearn.model_selection import train_test_split\n",
    "from sklearn import svm"
   ]
  },
  {
   "cell_type": "code",
   "execution_count": 157,
   "metadata": {
    "execution": {
     "iopub.execute_input": "2021-09-28T03:29:25.189416Z",
     "iopub.status.busy": "2021-09-28T03:29:25.189030Z",
     "iopub.status.idle": "2021-09-28T03:29:25.213920Z",
     "shell.execute_reply": "2021-09-28T03:29:25.213016Z",
     "shell.execute_reply.started": "2021-09-28T03:29:25.189366Z"
    },
    "papermill": {
     "duration": 0.044164,
     "end_time": "2021-09-28T04:02:06.584564",
     "exception": false,
     "start_time": "2021-09-28T04:02:06.540400",
     "status": "completed"
    },
    "tags": []
   },
   "outputs": [],
   "source": [
    "data=pd.read_csv(\"data/heart.csv\")"
   ]
  },
  {
   "cell_type": "code",
   "execution_count": 158,
   "metadata": {
    "execution": {
     "iopub.execute_input": "2021-09-28T03:29:25.684310Z",
     "iopub.status.busy": "2021-09-28T03:29:25.683791Z",
     "iopub.status.idle": "2021-09-28T03:29:25.702177Z",
     "shell.execute_reply": "2021-09-28T03:29:25.701187Z",
     "shell.execute_reply.started": "2021-09-28T03:29:25.684265Z"
    },
    "papermill": {
     "duration": 0.03928,
     "end_time": "2021-09-28T04:02:06.640154",
     "exception": false,
     "start_time": "2021-09-28T04:02:06.600874",
     "status": "completed"
    },
    "tags": []
   },
   "outputs": [
    {
     "name": "stdout",
     "output_type": "stream",
     "text": [
      "<class 'pandas.core.frame.DataFrame'>\n",
      "RangeIndex: 303 entries, 0 to 302\n",
      "Data columns (total 14 columns):\n",
      " #   Column    Non-Null Count  Dtype  \n",
      "---  ------    --------------  -----  \n",
      " 0   age       303 non-null    int64  \n",
      " 1   sex       303 non-null    int64  \n",
      " 2   cp        303 non-null    int64  \n",
      " 3   trtbps    303 non-null    int64  \n",
      " 4   chol      303 non-null    int64  \n",
      " 5   fbs       303 non-null    int64  \n",
      " 6   restecg   303 non-null    int64  \n",
      " 7   thalachh  303 non-null    int64  \n",
      " 8   exng      303 non-null    int64  \n",
      " 9   oldpeak   303 non-null    float64\n",
      " 10  slp       303 non-null    int64  \n",
      " 11  caa       303 non-null    int64  \n",
      " 12  thall     303 non-null    int64  \n",
      " 13  output    303 non-null    int64  \n",
      "dtypes: float64(1), int64(13)\n",
      "memory usage: 33.3 KB\n"
     ]
    }
   ],
   "source": [
    "data.info()"
   ]
  },
  {
   "cell_type": "code",
   "execution_count": 159,
   "metadata": {
    "execution": {
     "iopub.execute_input": "2021-09-28T03:29:33.765409Z",
     "iopub.status.busy": "2021-09-28T03:29:33.765028Z",
     "iopub.status.idle": "2021-09-28T03:29:33.789864Z",
     "shell.execute_reply": "2021-09-28T03:29:33.788663Z",
     "shell.execute_reply.started": "2021-09-28T03:29:33.765359Z"
    },
    "papermill": {
     "duration": 0.043305,
     "end_time": "2021-09-28T04:02:06.700157",
     "exception": false,
     "start_time": "2021-09-28T04:02:06.656852",
     "status": "completed"
    },
    "tags": []
   },
   "outputs": [
    {
     "data": {
      "text/plain": [
       "<bound method Series.drop of 0      1\n",
       "1      1\n",
       "2      1\n",
       "3      1\n",
       "4      1\n",
       "      ..\n",
       "298    0\n",
       "299    0\n",
       "300    0\n",
       "301    0\n",
       "302    0\n",
       "Name: output, Length: 303, dtype: int64>"
      ]
     },
     "execution_count": 159,
     "metadata": {},
     "output_type": "execute_result"
    }
   ],
   "source": [
    "data.head()\n",
    "data['target'] = data['output']\n",
    "data['output'].drop"
   ]
  },
  {
   "cell_type": "code",
   "execution_count": 161,
   "metadata": {
    "execution": {
     "iopub.execute_input": "2021-09-28T03:30:03.768109Z",
     "iopub.status.busy": "2021-09-28T03:30:03.767697Z",
     "iopub.status.idle": "2021-09-28T03:30:03.776979Z",
     "shell.execute_reply": "2021-09-28T03:30:03.775957Z",
     "shell.execute_reply.started": "2021-09-28T03:30:03.768050Z"
    },
    "papermill": {
     "duration": 0.03156,
     "end_time": "2021-09-28T04:02:06.748546",
     "exception": false,
     "start_time": "2021-09-28T04:02:06.716986",
     "status": "completed"
    },
    "tags": []
   },
   "outputs": [
    {
     "name": "stdout",
     "output_type": "stream",
     "text": [
      "Null Value Counts:\n",
      "age         0\n",
      "sex         0\n",
      "cp          0\n",
      "trtbps      0\n",
      "chol        0\n",
      "fbs         0\n",
      "restecg     0\n",
      "thalachh    0\n",
      "exng        0\n",
      "oldpeak     0\n",
      "slp         0\n",
      "caa         0\n",
      "thall       0\n",
      "output      0\n",
      "target      0\n",
      "dtype: int64\n"
     ]
    }
   ],
   "source": [
    "# Check the number of null values in each column\n",
    "null_counts = data.isnull().sum()\n",
    "print(\"Null Value Counts:\")\n",
    "print(null_counts)\n",
    "\n",
    "# Drop the 'output' column\n",
    "data.drop('output', axis=1, inplace=True)\n"
   ]
  },
  {
   "cell_type": "code",
   "execution_count": 163,
   "metadata": {
    "execution": {
     "iopub.execute_input": "2021-09-28T03:30:23.960243Z",
     "iopub.status.busy": "2021-09-28T03:30:23.959875Z",
     "iopub.status.idle": "2021-09-28T03:30:24.100567Z",
     "shell.execute_reply": "2021-09-28T03:30:24.099715Z",
     "shell.execute_reply.started": "2021-09-28T03:30:23.960200Z"
    },
    "papermill": {
     "duration": 0.193636,
     "end_time": "2021-09-28T04:02:06.959397",
     "exception": false,
     "start_time": "2021-09-28T04:02:06.765761",
     "status": "completed"
    },
    "tags": []
   },
   "outputs": [
    {
     "data": {
      "text/html": [
       "<div>\n",
       "<style scoped>\n",
       "    .dataframe tbody tr th:only-of-type {\n",
       "        vertical-align: middle;\n",
       "    }\n",
       "\n",
       "    .dataframe tbody tr th {\n",
       "        vertical-align: top;\n",
       "    }\n",
       "\n",
       "    .dataframe thead th {\n",
       "        text-align: right;\n",
       "    }\n",
       "</style>\n",
       "<table border=\"1\" class=\"dataframe\">\n",
       "  <thead>\n",
       "    <tr style=\"text-align: right;\">\n",
       "      <th></th>\n",
       "      <th>age</th>\n",
       "      <th>sex</th>\n",
       "      <th>cp</th>\n",
       "      <th>trtbps</th>\n",
       "      <th>chol</th>\n",
       "      <th>fbs</th>\n",
       "      <th>restecg</th>\n",
       "      <th>thalachh</th>\n",
       "      <th>exng</th>\n",
       "      <th>oldpeak</th>\n",
       "      <th>slp</th>\n",
       "      <th>caa</th>\n",
       "      <th>thall</th>\n",
       "      <th>target</th>\n",
       "    </tr>\n",
       "  </thead>\n",
       "  <tbody>\n",
       "    <tr>\n",
       "      <th>0</th>\n",
       "      <td>63</td>\n",
       "      <td>1</td>\n",
       "      <td>3</td>\n",
       "      <td>145</td>\n",
       "      <td>233</td>\n",
       "      <td>1</td>\n",
       "      <td>0</td>\n",
       "      <td>150</td>\n",
       "      <td>0</td>\n",
       "      <td>2.3</td>\n",
       "      <td>0</td>\n",
       "      <td>0</td>\n",
       "      <td>1</td>\n",
       "      <td>1</td>\n",
       "    </tr>\n",
       "    <tr>\n",
       "      <th>1</th>\n",
       "      <td>37</td>\n",
       "      <td>1</td>\n",
       "      <td>2</td>\n",
       "      <td>130</td>\n",
       "      <td>250</td>\n",
       "      <td>0</td>\n",
       "      <td>1</td>\n",
       "      <td>187</td>\n",
       "      <td>0</td>\n",
       "      <td>3.5</td>\n",
       "      <td>0</td>\n",
       "      <td>0</td>\n",
       "      <td>2</td>\n",
       "      <td>1</td>\n",
       "    </tr>\n",
       "    <tr>\n",
       "      <th>2</th>\n",
       "      <td>41</td>\n",
       "      <td>0</td>\n",
       "      <td>1</td>\n",
       "      <td>130</td>\n",
       "      <td>204</td>\n",
       "      <td>0</td>\n",
       "      <td>0</td>\n",
       "      <td>172</td>\n",
       "      <td>0</td>\n",
       "      <td>1.4</td>\n",
       "      <td>2</td>\n",
       "      <td>0</td>\n",
       "      <td>2</td>\n",
       "      <td>1</td>\n",
       "    </tr>\n",
       "    <tr>\n",
       "      <th>3</th>\n",
       "      <td>56</td>\n",
       "      <td>1</td>\n",
       "      <td>1</td>\n",
       "      <td>120</td>\n",
       "      <td>236</td>\n",
       "      <td>0</td>\n",
       "      <td>1</td>\n",
       "      <td>178</td>\n",
       "      <td>0</td>\n",
       "      <td>0.8</td>\n",
       "      <td>2</td>\n",
       "      <td>0</td>\n",
       "      <td>2</td>\n",
       "      <td>1</td>\n",
       "    </tr>\n",
       "    <tr>\n",
       "      <th>4</th>\n",
       "      <td>57</td>\n",
       "      <td>0</td>\n",
       "      <td>0</td>\n",
       "      <td>120</td>\n",
       "      <td>354</td>\n",
       "      <td>0</td>\n",
       "      <td>1</td>\n",
       "      <td>163</td>\n",
       "      <td>1</td>\n",
       "      <td>0.6</td>\n",
       "      <td>2</td>\n",
       "      <td>0</td>\n",
       "      <td>2</td>\n",
       "      <td>1</td>\n",
       "    </tr>\n",
       "  </tbody>\n",
       "</table>\n",
       "</div>"
      ],
      "text/plain": [
       "   age  sex  cp  trtbps  chol  fbs  restecg  thalachh  exng  oldpeak  slp  \\\n",
       "0   63    1   3     145   233    1        0       150     0      2.3    0   \n",
       "1   37    1   2     130   250    0        1       187     0      3.5    0   \n",
       "2   41    0   1     130   204    0        0       172     0      1.4    2   \n",
       "3   56    1   1     120   236    0        1       178     0      0.8    2   \n",
       "4   57    0   0     120   354    0        1       163     1      0.6    2   \n",
       "\n",
       "   caa  thall  target  \n",
       "0    0      1       1  \n",
       "1    0      2       1  \n",
       "2    0      2       1  \n",
       "3    0      2       1  \n",
       "4    0      2       1  "
      ]
     },
     "execution_count": 163,
     "metadata": {},
     "output_type": "execute_result"
    },
    {
     "data": {
      "image/png": "[encoded data removed]",
      "text/plain": [
       "<Figure size 640x480 with 1 Axes>"
      ]
     },
     "metadata": {},
     "output_type": "display_data"
    }
   ],
   "source": [
    "data['target'].value_counts().plot.bar()\n",
    "data.head()"
   ]
  },
  {
   "cell_type": "code",
   "execution_count": 164,
   "metadata": {
    "execution": {
     "iopub.execute_input": "2021-09-28T03:33:42.484033Z",
     "iopub.status.busy": "2021-09-28T03:33:42.483692Z",
     "iopub.status.idle": "2021-09-28T03:33:42.494294Z",
     "shell.execute_reply": "2021-09-28T03:33:42.492956Z",
     "shell.execute_reply.started": "2021-09-28T03:33:42.483996Z"
    },
    "papermill": {
     "duration": 0.044166,
     "end_time": "2021-09-28T04:02:08.080630",
     "exception": false,
     "start_time": "2021-09-28T04:02:08.036464",
     "status": "completed"
    },
    "tags": []
   },
   "outputs": [],
   "source": [
    "X_data=data.drop('target',axis=1)\n",
    "Y_data=data['target']"
   ]
  },
  {
   "cell_type": "code",
   "execution_count": 165,
   "metadata": {
    "execution": {
     "iopub.execute_input": "2021-09-28T03:38:05.033504Z",
     "iopub.status.busy": "2021-09-28T03:38:05.033044Z",
     "iopub.status.idle": "2021-09-28T03:38:05.041504Z",
     "shell.execute_reply": "2021-09-28T03:38:05.040022Z",
     "shell.execute_reply.started": "2021-09-28T03:38:05.033445Z"
    },
    "papermill": {
     "duration": 0.033015,
     "end_time": "2021-09-28T04:02:08.189034",
     "exception": false,
     "start_time": "2021-09-28T04:02:08.156019",
     "status": "completed"
    },
    "tags": []
   },
   "outputs": [],
   "source": [
    "X_train, X_test, y_train, y_test = train_test_split(X_data, Y_data, test_size=0.30)"
   ]
  },
  {
   "attachments": {},
   "cell_type": "markdown",
   "metadata": {},
   "source": [
    "# SVM"
   ]
  },
  {
   "cell_type": "code",
   "execution_count": 166,
   "metadata": {
    "execution": {
     "iopub.execute_input": "2021-09-28T03:38:05.378188Z",
     "iopub.status.busy": "2021-09-28T03:38:05.377638Z",
     "iopub.status.idle": "2021-09-28T03:38:05.393658Z",
     "shell.execute_reply": "2021-09-28T03:38:05.392281Z",
     "shell.execute_reply.started": "2021-09-28T03:38:05.378141Z"
    },
    "papermill": {
     "duration": 0.048482,
     "end_time": "2021-09-28T04:02:08.258992",
     "exception": false,
     "start_time": "2021-09-28T04:02:08.210510",
     "status": "completed"
    },
    "tags": []
   },
   "outputs": [],
   "source": [
    "\n",
    "# Scale the data\n",
    "scaler = StandardScaler()\n",
    "X_train_scaled = scaler.fit_transform(X_train)\n",
    "X_test_scaled = scaler.transform(X_test)\n",
    "\n",
    "# Convert scaled data to dataframes\n",
    "X_train = pd.DataFrame(X_train_scaled, columns=X_train.columns)\n",
    "X_test = pd.DataFrame(X_test_scaled, columns=X_test.columns)"
   ]
  },
  {
   "cell_type": "code",
   "execution_count": 167,
   "metadata": {
    "execution": {
     "iopub.execute_input": "2021-09-28T03:38:05.421983Z",
     "iopub.status.busy": "2021-09-28T03:38:05.421611Z",
     "iopub.status.idle": "2021-09-28T03:38:05.443512Z",
     "shell.execute_reply": "2021-09-28T03:38:05.441970Z",
     "shell.execute_reply.started": "2021-09-28T03:38:05.421934Z"
    },
    "papermill": {
     "duration": 0.047177,
     "end_time": "2021-09-28T04:02:08.330552",
     "exception": false,
     "start_time": "2021-09-28T04:02:08.283375",
     "status": "completed"
    },
    "tags": []
   },
   "outputs": [
    {
     "name": "stdout",
     "output_type": "stream",
     "text": [
      "              precision    recall  f1-score   support\n",
      "\n",
      "           0       0.74      0.81      0.78        32\n",
      "           1       0.89      0.85      0.87        59\n",
      "\n",
      "    accuracy                           0.84        91\n",
      "   macro avg       0.82      0.83      0.82        91\n",
      "weighted avg       0.84      0.84      0.84        91\n",
      "\n"
     ]
    }
   ],
   "source": [
    "clf = svm.SVC()\n",
    "clf.fit(X_train, y_train)\n",
    "y_pred=clf.predict(X_test)\n",
    "confusion_matrix(y_pred,y_test)\n",
    "print(classification_report(y_pred,y_test))"
   ]
  },
  {
   "cell_type": "code",
   "execution_count": 168,
   "metadata": {
    "execution": {
     "iopub.execute_input": "2021-09-28T03:38:10.049264Z",
     "iopub.status.busy": "2021-09-28T03:38:10.048893Z",
     "iopub.status.idle": "2021-09-28T03:38:10.054131Z",
     "shell.execute_reply": "2021-09-28T03:38:10.053055Z",
     "shell.execute_reply.started": "2021-09-28T03:38:10.049219Z"
    },
    "papermill": {
     "duration": 0.029563,
     "end_time": "2021-09-28T04:02:08.426085",
     "exception": false,
     "start_time": "2021-09-28T04:02:08.396522",
     "status": "completed"
    },
    "tags": []
   },
   "outputs": [],
   "source": [
    "from sklearn.model_selection import ShuffleSplit,GridSearchCV\n",
    "from sklearn.metrics import f1_score,make_scorer"
   ]
  },
  {
   "cell_type": "code",
   "execution_count": 169,
   "metadata": {
    "execution": {
     "iopub.execute_input": "2021-09-28T04:01:42.784526Z",
     "iopub.status.busy": "2021-09-28T04:01:42.784120Z",
     "iopub.status.idle": "2021-09-28T04:01:42.791605Z",
     "shell.execute_reply": "2021-09-28T04:01:42.790573Z",
     "shell.execute_reply.started": "2021-09-28T04:01:42.784475Z"
    },
    "papermill": {
     "duration": 0.032041,
     "end_time": "2021-09-28T04:02:08.480479",
     "exception": false,
     "start_time": "2021-09-28T04:02:08.448438",
     "status": "completed"
    },
    "tags": []
   },
   "outputs": [],
   "source": [
    "params={\n",
    "    'gamma':[0.1,0.01,0,0.001,0.0001],\n",
    "    'C':[0.1,10,100,1000],\n",
    "    'kernel':['rbf']\n",
    "}\n",
    "grid=GridSearchCV(clf,param_grid=params,scoring=make_scorer(f1_score))"
   ]
  },
  {
   "cell_type": "code",
   "execution_count": 170,
   "metadata": {
    "execution": {
     "iopub.execute_input": "2021-09-28T04:01:45.125190Z",
     "iopub.status.busy": "2021-09-28T04:01:45.124771Z",
     "iopub.status.idle": "2021-09-28T04:01:45.947155Z",
     "shell.execute_reply": "2021-09-28T04:01:45.946000Z",
     "shell.execute_reply.started": "2021-09-28T04:01:45.125130Z"
    },
    "papermill": {
     "duration": 0.8454,
     "end_time": "2021-09-28T04:02:09.348259",
     "exception": false,
     "start_time": "2021-09-28T04:02:08.502859",
     "status": "completed"
    },
    "tags": []
   },
   "outputs": [],
   "source": [
    "grid_clf=grid.fit(X_train,y_train)"
   ]
  },
  {
   "cell_type": "code",
   "execution_count": 171,
   "metadata": {
    "execution": {
     "iopub.execute_input": "2021-09-28T03:38:23.387655Z",
     "iopub.status.busy": "2021-09-28T03:38:23.387252Z",
     "iopub.status.idle": "2021-09-28T03:38:23.396733Z",
     "shell.execute_reply": "2021-09-28T03:38:23.395401Z",
     "shell.execute_reply.started": "2021-09-28T03:38:23.387602Z"
    },
    "papermill": {
     "duration": 0.03538,
     "end_time": "2021-09-28T04:02:09.406009",
     "exception": false,
     "start_time": "2021-09-28T04:02:09.370629",
     "status": "completed"
    },
    "tags": []
   },
   "outputs": [
    {
     "data": {
      "text/html": [
       "<style>#sk-container-id-8 {color: black;background-color: white;}#sk-container-id-8 pre{padding: 0;}#sk-container-id-8 div.sk-toggleable {background-color: white;}#sk-container-id-8 label.sk-toggleable__label {cursor: pointer;display: block;width: 100%;margin-bottom: 0;padding: 0.3em;box-sizing: border-box;text-align: center;}#sk-container-id-8 label.sk-toggleable__label-arrow:before {content: \"▸\";float: left;margin-right: 0.25em;color: #696969;}#sk-container-id-8 label.sk-toggleable__label-arrow:hover:before {color: black;}#sk-container-id-8 div.sk-estimator:hover label.sk-toggleable__label-arrow:before {color: black;}#sk-container-id-8 div.sk-toggleable__content {max-height: 0;max-width: 0;overflow: hidden;text-align: left;background-color: #f0f8ff;}#sk-container-id-8 div.sk-toggleable__content pre {margin: 0.2em;color: black;border-radius: 0.25em;background-color: #f0f8ff;}#sk-container-id-8 input.sk-toggleable__control:checked~div.sk-toggleable__content {max-height: 200px;max-width: 100%;overflow: auto;}#sk-container-id-8 input.sk-toggleable__control:checked~label.sk-toggleable__label-arrow:before {content: \"▾\";}#sk-container-id-8 div.sk-estimator input.sk-toggleable__control:checked~label.sk-toggleable__label {background-color: #d4ebff;}#sk-container-id-8 div.sk-label input.sk-toggleable__control:checked~label.sk-toggleable__label {background-color: #d4ebff;}#sk-container-id-8 input.sk-hidden--visually {border: 0;clip: rect(1px 1px 1px 1px);clip: rect(1px, 1px, 1px, 1px);height: 1px;margin: -1px;overflow: hidden;padding: 0;position: absolute;width: 1px;}#sk-container-id-8 div.sk-estimator {font-family: monospace;background-color: #f0f8ff;border: 1px dotted black;border-radius: 0.25em;box-sizing: border-box;margin-bottom: 0.5em;}#sk-container-id-8 div.sk-estimator:hover {background-color: #d4ebff;}#sk-container-id-8 div.sk-parallel-item::after {content: \"\";width: 100%;border-bottom: 1px solid gray;flex-grow: 1;}#sk-container-id-8 div.sk-label:hover label.sk-toggleable__label {background-color: #d4ebff;}#sk-container-id-8 div.sk-serial::before {content: \"\";position: absolute;border-left: 1px solid gray;box-sizing: border-box;top: 0;bottom: 0;left: 50%;z-index: 0;}#sk-container-id-8 div.sk-serial {display: flex;flex-direction: column;align-items: center;background-color: white;padding-right: 0.2em;padding-left: 0.2em;position: relative;}#sk-container-id-8 div.sk-item {position: relative;z-index: 1;}#sk-container-id-8 div.sk-parallel {display: flex;align-items: stretch;justify-content: center;background-color: white;position: relative;}#sk-container-id-8 div.sk-item::before, #sk-container-id-8 div.sk-parallel-item::before {content: \"\";position: absolute;border-left: 1px solid gray;box-sizing: border-box;top: 0;bottom: 0;left: 50%;z-index: -1;}#sk-container-id-8 div.sk-parallel-item {display: flex;flex-direction: column;z-index: 1;position: relative;background-color: white;}#sk-container-id-8 div.sk-parallel-item:first-child::after {align-self: flex-end;width: 50%;}#sk-container-id-8 div.sk-parallel-item:last-child::after {align-self: flex-start;width: 50%;}#sk-container-id-8 div.sk-parallel-item:only-child::after {width: 0;}#sk-container-id-8 div.sk-dashed-wrapped {border: 1px dashed gray;margin: 0 0.4em 0.5em 0.4em;box-sizing: border-box;padding-bottom: 0.4em;background-color: white;}#sk-container-id-8 div.sk-label label {font-family: monospace;font-weight: bold;display: inline-block;line-height: 1.2em;}#sk-container-id-8 div.sk-label-container {text-align: center;}#sk-container-id-8 div.sk-container {/* jupyter's `normalize.less` sets `[hidden] { display: none; }` but bootstrap.min.css set `[hidden] { display: none !important; }` so we also need the `!important` here to be able to override the default hidden behavior on the sphinx rendered scikit-learn.org. See: https://github.com/scikit-learn/scikit-learn/issues/21755 */display: inline-block !important;position: relative;}#sk-container-id-8 div.sk-text-repr-fallback {display: none;}</style><div id=\"sk-container-id-8\" class=\"sk-top-container\"><div class=\"sk-text-repr-fallback\"><pre>SVC(C=100, gamma=0.001)</pre><b>In a Jupyter environment, please rerun this cell to show the HTML representation or trust the notebook. <br />On GitHub, the HTML representation is unable to render, please try loading this page with nbviewer.org.</b></div><div class=\"sk-container\" hidden><div class=\"sk-item\"><div class=\"sk-estimator sk-toggleable\"><input class=\"sk-toggleable__control sk-hidden--visually\" id=\"sk-estimator-id-8\" type=\"checkbox\" checked><label for=\"sk-estimator-id-8\" class=\"sk-toggleable__label sk-toggleable__label-arrow\">SVC</label><div class=\"sk-toggleable__content\"><pre>SVC(C=100, gamma=0.001)</pre></div></div></div></div></div>"
      ],
      "text/plain": [
       "SVC(C=100, gamma=0.001)"
      ]
     },
     "execution_count": 171,
     "metadata": {},
     "output_type": "execute_result"
    }
   ],
   "source": [
    "grid_clf.best_estimator_"
   ]
  },
  {
   "cell_type": "code",
   "execution_count": 172,
   "metadata": {
    "execution": {
     "iopub.execute_input": "2021-09-28T03:38:33.143951Z",
     "iopub.status.busy": "2021-09-28T03:38:33.143557Z",
     "iopub.status.idle": "2021-09-28T03:38:33.148559Z",
     "shell.execute_reply": "2021-09-28T03:38:33.147465Z",
     "shell.execute_reply.started": "2021-09-28T03:38:33.143896Z"
    },
    "papermill": {
     "duration": 0.04134,
     "end_time": "2021-09-28T04:02:09.469691",
     "exception": false,
     "start_time": "2021-09-28T04:02:09.428351",
     "status": "completed"
    },
    "tags": []
   },
   "outputs": [
    {
     "name": "stdout",
     "output_type": "stream",
     "text": [
      "[[26  5]\n",
      " [ 9 51]]\n",
      "              precision    recall  f1-score   support\n",
      "\n",
      "           0       0.74      0.84      0.79        31\n",
      "           1       0.91      0.85      0.88        60\n",
      "\n",
      "    accuracy                           0.85        91\n",
      "   macro avg       0.83      0.84      0.83        91\n",
      "weighted avg       0.85      0.85      0.85        91\n",
      "\n",
      "Cross-Validation Scores: [0.88372093 0.81395349 0.85714286 0.78571429 0.80952381]\n",
      "Mean Accuracy: 0.8300110741971206\n"
     ]
    }
   ],
   "source": [
    "from sklearn.model_selection import cross_val_score\n",
    "\n",
    "grid_best=grid_clf.best_estimator_\n",
    "y_grid_pred=grid_best.predict(X_test)\n",
    "print(confusion_matrix(y_grid_pred,y_test))\n",
    "print(classification_report(y_grid_pred,y_test))\n",
    "scores = cross_val_score(grid_best, X_train, y_train, cv=5)  # cv=5 specifies 5-fold cross-validation\n",
    "\n",
    "# Print the cross-validation scores\n",
    "print(\"Cross-Validation Scores:\", scores)\n",
    "print(\"Mean Accuracy:\", scores.mean())"
   ]
  },
  {
   "attachments": {},
   "cell_type": "markdown",
   "metadata": {},
   "source": [
    "# Logistic regression"
   ]
  },
  {
   "cell_type": "code",
   "execution_count": 174,
   "metadata": {},
   "outputs": [
    {
     "name": "stdout",
     "output_type": "stream",
     "text": [
      "Logistic Regression:\n",
      "              precision    recall  f1-score   support\n",
      "\n",
      "           0       0.71      0.74      0.72        34\n",
      "           1       0.84      0.82      0.83        57\n",
      "\n",
      "    accuracy                           0.79        91\n",
      "   macro avg       0.78      0.78      0.78        91\n",
      "weighted avg       0.79      0.79      0.79        91\n",
      "\n",
      "Confusion Matrix:\n",
      "[[25  9]\n",
      " [10 47]]\n",
      "Cross-Validation Scores: [0.86046512 0.8372093  0.85714286 0.76190476 0.83333333]\n",
      "Mean Accuracy: 0.8300110741971206\n"
     ]
    }
   ],
   "source": [
    "from sklearn.linear_model import LogisticRegression\n",
    "from sklearn.preprocessing import StandardScaler\n",
    "from sklearn.model_selection import cross_val_score\n",
    "import warnings\n",
    "\n",
    "# Suppress the convergence warning\n",
    "\n",
    "# Scale the data\n",
    "scaler = StandardScaler()\n",
    "X_train_scaled = scaler.fit_transform(X_train)\n",
    "X_test_scaled = scaler.transform(X_test)\n",
    "\n",
    "# Logistic regression with increased max_iter\n",
    "logreg = LogisticRegression(max_iter=1000)\n",
    "logreg.fit(X_train_scaled, y_train)\n",
    "y_pred_logreg = logreg.predict(X_test_scaled)\n",
    "\n",
    "# Generate classification report\n",
    "print(\"Logistic Regression:\")\n",
    "print(classification_report(y_pred_logreg, y_test))\n",
    "print(\"Confusion Matrix:\")\n",
    "print(confusion_matrix(y_pred_logreg, y_test))\n",
    "\n",
    "# Perform cross-validation\n",
    "scores = cross_val_score(logreg, X_train_scaled, y_train, cv=5)\n",
    "\n",
    "# Print the cross-validation scores\n",
    "print(\"Cross-Validation Scores:\", scores)\n",
    "print(\"Mean Accuracy:\", scores.mean())\n"
   ]
  },
  {
   "attachments": {},
   "cell_type": "markdown",
   "metadata": {},
   "source": [
    "# Decision Tree"
   ]
  },
  {
   "cell_type": "code",
   "execution_count": 181,
   "metadata": {},
   "outputs": [
    {
     "name": "stdout",
     "output_type": "stream",
     "text": [
      "Best Hyperparameters: {'max_depth': 10, 'min_samples_leaf': 4, 'min_samples_split': 10}\n",
      "Decision Tree:\n",
      "              precision    recall  f1-score   support\n",
      "\n",
      "           0       0.71      0.64      0.68        39\n",
      "           1       0.75      0.81      0.78        52\n",
      "\n",
      "    accuracy                           0.74        91\n",
      "   macro avg       0.73      0.72      0.73        91\n",
      "weighted avg       0.73      0.74      0.73        91\n",
      "\n",
      "Confusion Matrix:\n",
      "[[25 14]\n",
      " [10 42]]\n",
      "Cross-Validation Scores: [0.8372093  0.72093023 0.69047619 0.64285714 0.83333333]\n",
      "Mean Accuracy: 0.7449612403100776\n"
     ]
    }
   ],
   "source": [
    "from sklearn.tree import DecisionTreeClassifier\n",
    "from sklearn.metrics import classification_report, confusion_matrix\n",
    "from sklearn.model_selection import GridSearchCV\n",
    "\n",
    "# Define the parameter grid for grid search\n",
    "param_grid = {\n",
    "    'max_depth': [None, 5, 10],\n",
    "    'min_samples_split': [2, 5, 10],\n",
    "    'min_samples_leaf': [1, 2, 4],\n",
    "}\n",
    "\n",
    "# Create the Decision Tree classifier\n",
    "dt = DecisionTreeClassifier()\n",
    "\n",
    "# Perform grid search with cross-validation\n",
    "grid_search = GridSearchCV(dt, param_grid, cv=5)\n",
    "grid_search.fit(X_train, y_train)\n",
    "\n",
    "# Get the best hyperparameters and the best model\n",
    "best_params = grid_search.best_params_\n",
    "best_model = grid_search.best_estimator_\n",
    "\n",
    "# Print the best hyperparameters\n",
    "print(\"Best Hyperparameters:\", best_params)\n",
    "\n",
    "# Make predictions with the best model\n",
    "y_pred_dt = best_model.predict(X_test)\n",
    "\n",
    "# Generate classification report\n",
    "print(\"Decision Tree:\")\n",
    "print(classification_report(y_pred_dt, y_test))\n",
    "print(\"Confusion Matrix:\")\n",
    "print(confusion_matrix(y_pred_dt, y_test))\n",
    "\n",
    "# Perform cross-validation with the best model\n",
    "scores = cross_val_score(best_model, X_train, y_train, cv=5)\n",
    "\n",
    "# Print the cross-validation scores\n",
    "print(\"Cross-Validation Scores:\", scores)\n",
    "print(\"Mean Accuracy:\", scores.mean())\n"
   ]
  },
  {
   "attachments": {},
   "cell_type": "markdown",
   "metadata": {},
   "source": [
    "# Naive Bayes"
   ]
  },
  {
   "cell_type": "code",
   "execution_count": 185,
   "metadata": {},
   "outputs": [
    {
     "name": "stdout",
     "output_type": "stream",
     "text": [
      "Naive Bayes:\n",
      "              precision    recall  f1-score   support\n",
      "\n",
      "           0       0.80      0.72      0.76        39\n",
      "           1       0.80      0.87      0.83        52\n",
      "\n",
      "    accuracy                           0.80        91\n",
      "   macro avg       0.80      0.79      0.80        91\n",
      "weighted avg       0.80      0.80      0.80        91\n",
      "\n",
      "Confusion Matrix:\n",
      "[[28 11]\n",
      " [ 7 45]]\n",
      "Cross-Validation Scores: [0.8372093  0.86046512 0.80952381 0.80952381 0.80952381]\n",
      "Mean Accuracy: 0.8252491694352159\n"
     ]
    }
   ],
   "source": [
    "from sklearn.naive_bayes import GaussianNB\n",
    "\n",
    "nb = GaussianNB()\n",
    "nb.fit(X_train, y_train)\n",
    "y_pred_nb = nb.predict(X_test)\n",
    "\n",
    "# Generate classification report\n",
    "print(\"Naive Bayes:\")\n",
    "print(classification_report(y_pred_nb, y_test))\n",
    "print(\"Confusion Matrix:\")\n",
    "print(confusion_matrix(y_pred_nb, y_test))\n",
    "scores = cross_val_score(nb, X_train, y_train, cv=5)  # cv=5 specifies 5-fold cross-validation\n",
    "\n",
    "# Print the cross-validation scores\n",
    "print(\"Cross-Validation Scores:\", scores)\n",
    "print(\"Mean Accuracy:\", scores.mean())"
   ]
  },
  {
   "attachments": {},
   "cell_type": "markdown",
   "metadata": {},
   "source": []
  }
 ],
 "metadata": {
  "kernelspec": {
   "display_name": "Python 3",
   "language": "python",
   "name": "python3"
  },
  "language_info": {
   "codemirror_mode": {
    "name": "ipython",
    "version": 3
   },
   "file_extension": ".py",
   "mimetype": "text/x-python",
   "name": "python",
   "nbconvert_exporter": "python",
   "pygments_lexer": "ipython3",
   "version": "3.10.9"
  },
  "papermill": {
   "duration": 8.982998,
   "end_time": "2021-09-28T04:02:10.191423",
   "environment_variables": {},
   "exception": null,
   "input_path": "__notebook__.ipynb",
   "output_path": "__notebook__.ipynb",
   "parameters": {},
   "start_time": "2021-09-28T04:02:01.208425",
   "version": "1.2.1"
  }
 },
 "nbformat": 4,
 "nbformat_minor": 4
}
